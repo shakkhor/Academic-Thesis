{
 "cells": [
  {
   "cell_type": "code",
   "execution_count": 2,
   "metadata": {},
   "outputs": [
    {
     "name": "stderr",
     "output_type": "stream",
     "text": [
      "C:\\Users\\88015\\Anaconda3\\envs\\thesis\\lib\\site-packages\\gensim\\utils.py:1197: UserWarning: detected Windows; aliasing chunkize to chunkize_serial\n",
      "  warnings.warn(\"detected Windows; aliasing chunkize to chunkize_serial\")\n"
     ]
    }
   ],
   "source": [
    "import numpy as np\n",
    "import tensorflow as tf\n",
    "from gensim.models import Doc2Vec"
   ]
  },
  {
   "cell_type": "code",
   "execution_count": 3,
   "metadata": {},
   "outputs": [
    {
     "name": "stderr",
     "output_type": "stream",
     "text": [
      "2018-07-23 16:42:13,877 : INFO : running C:\\Users\\88015\\Anaconda3\\envs\\thesis\\lib\\site-packages\\ipykernel_launcher.py -f C:\\Users\\88015\\AppData\\Roaming\\jupyter\\runtime\\kernel-acf5c0ab-f3c3-4475-90e7-c87748de26f8.json\n"
     ]
    }
   ],
   "source": [
    "import logging\n",
    "import os.path\n",
    "import sys\n",
    "import _pickle as pickle\n",
    "\n",
    "program = os.path.basename(sys.argv[0])\n",
    "logger = logging.getLogger(program)\n",
    "logging.basicConfig(format='%(asctime)s : %(levelname)s : %(message)s')\n",
    "logging.root.setLevel(level=logging.INFO)\n",
    "logger.info(\"running %s\" % ' '.join(sys.argv))"
   ]
  },
  {
   "cell_type": "code",
   "execution_count": 4,
   "metadata": {},
   "outputs": [
    {
     "name": "stderr",
     "output_type": "stream",
     "text": [
      "2018-07-23 16:42:40,310 : INFO : loading Doc2Vec object from ./pretrained.d2v\n",
      "2018-07-23 16:42:40,995 : INFO : loading vocabulary recursively from ./pretrained.d2v.vocabulary.* with mmap=None\n",
      "2018-07-23 16:42:40,996 : INFO : loading trainables recursively from ./pretrained.d2v.trainables.* with mmap=None\n",
      "2018-07-23 16:42:40,997 : INFO : loading wv recursively from ./pretrained.d2v.wv.* with mmap=None\n",
      "2018-07-23 16:42:40,997 : INFO : loading docvecs recursively from ./pretrained.d2v.docvecs.* with mmap=None\n",
      "2018-07-23 16:42:40,998 : INFO : loaded ./pretrained.d2v\n"
     ]
    }
   ],
   "source": [
    "model = Doc2Vec.load('./pretrained.d2v')"
   ]
  },
  {
   "cell_type": "code",
   "execution_count": 5,
   "metadata": {},
   "outputs": [],
   "source": [
    "train_arrays = np.zeros((8000, 100))\n",
    "train_labels = np.zeros((8000,2))\n",
    "\n",
    "for i in range(4000):\n",
    "    train_neg = \"TRAIN_NEG_\"+str(i)\n",
    "    train_pos= \"TRAIN_POS_\"+str(i)\n",
    "    prefix_train_pos = model.docvecs[train_pos] \n",
    "    prefix_train_neg = model.docvecs[train_neg] \n",
    "    train_arrays[i] = prefix_train_pos\n",
    "    train_arrays[4000 + i] = prefix_train_neg\n",
    "    train_labels[i][0] = 1\n",
    "    train_labels[4000 + i][1] = 0"
   ]
  },
  {
   "cell_type": "code",
   "execution_count": 6,
   "metadata": {},
   "outputs": [],
   "source": [
    "test_arrays = np.zeros((400, 100))\n",
    "test_labels = np.zeros((400,2))\n",
    "\n",
    "for i in range(200):\n",
    "    test_neg = \"TEST_NEG_\"+str(i)\n",
    "    test_pos= \"TEST_POS_\"+str(i)\n",
    "    prefix_test_pos = model.docvecs[test_pos] \n",
    "    prefix_test_neg = model.docvecs[test_neg] \n",
    "    test_arrays[i] = prefix_test_pos\n",
    "    test_arrays[200 + i] = prefix_test_neg\n",
    "    test_labels[i][0] = 1\n",
    "    test_labels[200 + i][1] = 0"
   ]
  },
  {
   "cell_type": "code",
   "execution_count": 7,
   "metadata": {},
   "outputs": [],
   "source": [
    "batchSize = 24\n",
    "lstmUnits = 64\n",
    "numClasses = 2\n",
    "iterations = 100000"
   ]
  },
  {
   "cell_type": "code",
   "execution_count": null,
   "metadata": {},
   "outputs": [],
   "source": []
  }
 ],
 "metadata": {
  "kernelspec": {
   "display_name": "Python 3",
   "language": "python",
   "name": "python3"
  },
  "language_info": {
   "codemirror_mode": {
    "name": "ipython",
    "version": 3
   },
   "file_extension": ".py",
   "mimetype": "text/x-python",
   "name": "python",
   "nbconvert_exporter": "python",
   "pygments_lexer": "ipython3",
   "version": "3.6.6"
  }
 },
 "nbformat": 4,
 "nbformat_minor": 2
}
